{
 "cells": [
  {
   "cell_type": "code",
   "execution_count": 6,
   "id": "e942cfcc",
   "metadata": {},
   "outputs": [],
   "source": [
    "import import_ipynb\n",
    "import riot_api_functions\n",
    "import numpy as np\n",
    "import csv\n",
    "import pandas as pd\n",
    "import matplotlib.pyplot as plt"
   ]
  },
  {
   "cell_type": "code",
   "execution_count": 7,
   "id": "d83a1d5c",
   "metadata": {},
   "outputs": [],
   "source": [
    "#Use this if you need to collect more data\n",
    "\n",
    "#riot_api_functions.collect_more_matchIds()\n",
    "#riot_api_functions.collect_more_puuids()\n",
    "#riot_api_functions.collect_more_game_data()"
   ]
  },
  {
   "cell_type": "code",
   "execution_count": 8,
   "id": "b94d4bdf",
   "metadata": {},
   "outputs": [
    {
     "data": {
      "text/html": [
       "<div>\n",
       "<style scoped>\n",
       "    .dataframe tbody tr th:only-of-type {\n",
       "        vertical-align: middle;\n",
       "    }\n",
       "\n",
       "    .dataframe tbody tr th {\n",
       "        vertical-align: top;\n",
       "    }\n",
       "\n",
       "    .dataframe thead th {\n",
       "        text-align: right;\n",
       "    }\n",
       "</style>\n",
       "<table border=\"1\" class=\"dataframe\">\n",
       "  <thead>\n",
       "    <tr style=\"text-align: right;\">\n",
       "      <th></th>\n",
       "      <th>match ID</th>\n",
       "      <th>champion name</th>\n",
       "      <th>kill</th>\n",
       "      <th>death</th>\n",
       "      <th>assist</th>\n",
       "      <th>win</th>\n",
       "    </tr>\n",
       "  </thead>\n",
       "  <tbody>\n",
       "    <tr>\n",
       "      <th>0</th>\n",
       "      <td>KR_5279293156</td>\n",
       "      <td>Illaoi</td>\n",
       "      <td>17</td>\n",
       "      <td>5</td>\n",
       "      <td>19</td>\n",
       "      <td>True</td>\n",
       "    </tr>\n",
       "    <tr>\n",
       "      <th>1</th>\n",
       "      <td>KR_5279293156</td>\n",
       "      <td>Taliyah</td>\n",
       "      <td>6</td>\n",
       "      <td>6</td>\n",
       "      <td>29</td>\n",
       "      <td>True</td>\n",
       "    </tr>\n",
       "    <tr>\n",
       "      <th>2</th>\n",
       "      <td>KR_5279293156</td>\n",
       "      <td>Neeko</td>\n",
       "      <td>12</td>\n",
       "      <td>7</td>\n",
       "      <td>22</td>\n",
       "      <td>True</td>\n",
       "    </tr>\n",
       "    <tr>\n",
       "      <th>3</th>\n",
       "      <td>KR_5279293156</td>\n",
       "      <td>Sivir</td>\n",
       "      <td>10</td>\n",
       "      <td>5</td>\n",
       "      <td>27</td>\n",
       "      <td>True</td>\n",
       "    </tr>\n",
       "    <tr>\n",
       "      <th>4</th>\n",
       "      <td>KR_5279293156</td>\n",
       "      <td>Lux</td>\n",
       "      <td>10</td>\n",
       "      <td>4</td>\n",
       "      <td>27</td>\n",
       "      <td>True</td>\n",
       "    </tr>\n",
       "    <tr>\n",
       "      <th>5</th>\n",
       "      <td>KR_5279293156</td>\n",
       "      <td>Samira</td>\n",
       "      <td>1</td>\n",
       "      <td>15</td>\n",
       "      <td>5</td>\n",
       "      <td>False</td>\n",
       "    </tr>\n",
       "    <tr>\n",
       "      <th>6</th>\n",
       "      <td>KR_5279293156</td>\n",
       "      <td>Garen</td>\n",
       "      <td>4</td>\n",
       "      <td>9</td>\n",
       "      <td>5</td>\n",
       "      <td>False</td>\n",
       "    </tr>\n",
       "    <tr>\n",
       "      <th>7</th>\n",
       "      <td>KR_5279293156</td>\n",
       "      <td>XinZhao</td>\n",
       "      <td>8</td>\n",
       "      <td>11</td>\n",
       "      <td>10</td>\n",
       "      <td>False</td>\n",
       "    </tr>\n",
       "    <tr>\n",
       "      <th>8</th>\n",
       "      <td>KR_5279293156</td>\n",
       "      <td>Vladimir</td>\n",
       "      <td>6</td>\n",
       "      <td>11</td>\n",
       "      <td>12</td>\n",
       "      <td>False</td>\n",
       "    </tr>\n",
       "    <tr>\n",
       "      <th>9</th>\n",
       "      <td>KR_5279293156</td>\n",
       "      <td>Viego</td>\n",
       "      <td>8</td>\n",
       "      <td>9</td>\n",
       "      <td>8</td>\n",
       "      <td>False</td>\n",
       "    </tr>\n",
       "  </tbody>\n",
       "</table>\n",
       "</div>"
      ],
      "text/plain": [
       "        match ID champion name  kill  death  assist    win\n",
       "0  KR_5279293156        Illaoi    17      5      19   True\n",
       "1  KR_5279293156       Taliyah     6      6      29   True\n",
       "2  KR_5279293156         Neeko    12      7      22   True\n",
       "3  KR_5279293156         Sivir    10      5      27   True\n",
       "4  KR_5279293156           Lux    10      4      27   True\n",
       "5  KR_5279293156        Samira     1     15       5  False\n",
       "6  KR_5279293156         Garen     4      9       5  False\n",
       "7  KR_5279293156       XinZhao     8     11      10  False\n",
       "8  KR_5279293156      Vladimir     6     11      12  False\n",
       "9  KR_5279293156         Viego     8      9       8  False"
      ]
     },
     "execution_count": 8,
     "metadata": {},
     "output_type": "execute_result"
    }
   ],
   "source": [
    "#Shows collected game data\n",
    "game_data = pd.read_csv(\"game_data.csv\", header=0)\n",
    "game_data.head(10)"
   ]
  },
  {
   "cell_type": "code",
   "execution_count": 9,
   "id": "e415ec4a",
   "metadata": {},
   "outputs": [
    {
     "data": {
      "text/plain": [
       "Ezreal     1416\n",
       "Varus      1334\n",
       "Lucian     1322\n",
       "Jhin       1300\n",
       "Ashe       1291\n",
       "           ... \n",
       "Udyr        110\n",
       "Akshan       94\n",
       "Skarner      88\n",
       "Yorick       87\n",
       "RekSai       68\n",
       "Name: champion name, Length: 156, dtype: int64"
      ]
     },
     "execution_count": 9,
     "metadata": {},
     "output_type": "execute_result"
    }
   ],
   "source": [
    "#Which champion was played the most?\n",
    "data = game_data['champion name'].value_counts()\n",
    "data"
   ]
  },
  {
   "cell_type": "code",
   "execution_count": 10,
   "id": "b79eec89",
   "metadata": {},
   "outputs": [
    {
     "data": {
      "image/png": "[encoded data removed]",
      "text/plain": [
       "<Figure size 432x288 with 1 Axes>"
      ]
     },
     "metadata": {
      "needs_background": "light"
     },
     "output_type": "display_data"
    }
   ],
   "source": [
    "#need to improve readability. How?\n",
    "plt.bar(data.index, data)\n",
    "plt.show()"
   ]
  },
  {
   "cell_type": "code",
   "execution_count": null,
   "id": "0a21169a",
   "metadata": {},
   "outputs": [],
   "source": []
  }
 ],
 "metadata": {
  "kernelspec": {
   "display_name": "Python 3 (ipykernel)",
   "language": "python",
   "name": "python3"
  },
  "language_info": {
   "codemirror_mode": {
    "name": "ipython",
    "version": 3
   },
   "file_extension": ".py",
   "mimetype": "text/x-python",
   "name": "python",
   "nbconvert_exporter": "python",
   "pygments_lexer": "ipython3",
   "version": "3.9.12"
  }
 },
 "nbformat": 4,
 "nbformat_minor": 5
}
