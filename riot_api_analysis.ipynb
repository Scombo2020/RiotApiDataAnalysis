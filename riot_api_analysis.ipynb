{
 "cells": [
  {
   "cell_type": "code",
   "execution_count": 1,
   "id": "e942cfcc",
   "metadata": {},
   "outputs": [
    {
     "name": "stdout",
     "output_type": "stream",
     "text": [
      "importing Jupyter notebook from riot_api_functions.ipynb\n",
      "we have  317817  matchIDs.\n",
      "we have  3614  users' puuids.\n",
      "we have  4200 games' data.\n"
     ]
    }
   ],
   "source": [
    "import import_ipynb\n",
    "import riot_api_functions\n",
    "import numpy as np\n",
    "import csv\n",
    "import pandas as pd\n",
    "import matplotlib.pyplot as plt"
   ]
  },
  {
   "cell_type": "code",
   "execution_count": 2,
   "id": "d83a1d5c",
   "metadata": {},
   "outputs": [
    {
     "name": "stdout",
     "output_type": "stream",
     "text": [
      "1  cycle has been done.\n",
      "2  cycle has been done.\n",
      "3  cycle has been done.\n",
      "4  cycle has been done.\n",
      "5  cycle has been done.\n",
      "6  cycle has been done.\n",
      "7  cycle has been done.\n",
      "8  cycle has been done.\n",
      "9  cycle has been done.\n",
      "10  cycle has been done.\n",
      "The entire process has been done as  10  cycles were set. Finish the program.\n"
     ]
    }
   ],
   "source": [
    "#riot_api_functions.add_game_data()"
   ]
  },
  {
   "cell_type": "code",
   "execution_count": 3,
   "id": "b94d4bdf",
   "metadata": {},
   "outputs": [
    {
     "data": {
      "text/html": [
       "<div>\n",
       "<style scoped>\n",
       "    .dataframe tbody tr th:only-of-type {\n",
       "        vertical-align: middle;\n",
       "    }\n",
       "\n",
       "    .dataframe tbody tr th {\n",
       "        vertical-align: top;\n",
       "    }\n",
       "\n",
       "    .dataframe thead th {\n",
       "        text-align: right;\n",
       "    }\n",
       "</style>\n",
       "<table border=\"1\" class=\"dataframe\">\n",
       "  <thead>\n",
       "    <tr style=\"text-align: right;\">\n",
       "      <th></th>\n",
       "      <th>match ID</th>\n",
       "      <th>champion name</th>\n",
       "      <th>kill</th>\n",
       "      <th>death</th>\n",
       "      <th>assist</th>\n",
       "      <th>win</th>\n",
       "    </tr>\n",
       "  </thead>\n",
       "  <tbody>\n",
       "    <tr>\n",
       "      <th>0</th>\n",
       "      <td>KR_5279293156</td>\n",
       "      <td>Illaoi</td>\n",
       "      <td>17</td>\n",
       "      <td>5</td>\n",
       "      <td>19</td>\n",
       "      <td>True</td>\n",
       "    </tr>\n",
       "    <tr>\n",
       "      <th>1</th>\n",
       "      <td>KR_5279293156</td>\n",
       "      <td>Taliyah</td>\n",
       "      <td>6</td>\n",
       "      <td>6</td>\n",
       "      <td>29</td>\n",
       "      <td>True</td>\n",
       "    </tr>\n",
       "    <tr>\n",
       "      <th>2</th>\n",
       "      <td>KR_5279293156</td>\n",
       "      <td>Neeko</td>\n",
       "      <td>12</td>\n",
       "      <td>7</td>\n",
       "      <td>22</td>\n",
       "      <td>True</td>\n",
       "    </tr>\n",
       "    <tr>\n",
       "      <th>3</th>\n",
       "      <td>KR_5279293156</td>\n",
       "      <td>Sivir</td>\n",
       "      <td>10</td>\n",
       "      <td>5</td>\n",
       "      <td>27</td>\n",
       "      <td>True</td>\n",
       "    </tr>\n",
       "    <tr>\n",
       "      <th>4</th>\n",
       "      <td>KR_5279293156</td>\n",
       "      <td>Lux</td>\n",
       "      <td>10</td>\n",
       "      <td>4</td>\n",
       "      <td>27</td>\n",
       "      <td>True</td>\n",
       "    </tr>\n",
       "    <tr>\n",
       "      <th>...</th>\n",
       "      <td>...</td>\n",
       "      <td>...</td>\n",
       "      <td>...</td>\n",
       "      <td>...</td>\n",
       "      <td>...</td>\n",
       "      <td>...</td>\n",
       "    </tr>\n",
       "    <tr>\n",
       "      <th>51995</th>\n",
       "      <td>KR_5334248416</td>\n",
       "      <td>Gwen</td>\n",
       "      <td>3</td>\n",
       "      <td>10</td>\n",
       "      <td>17</td>\n",
       "      <td>False</td>\n",
       "    </tr>\n",
       "    <tr>\n",
       "      <th>51996</th>\n",
       "      <td>KR_5334248416</td>\n",
       "      <td>Karthus</td>\n",
       "      <td>12</td>\n",
       "      <td>15</td>\n",
       "      <td>14</td>\n",
       "      <td>False</td>\n",
       "    </tr>\n",
       "    <tr>\n",
       "      <th>51997</th>\n",
       "      <td>KR_5334248416</td>\n",
       "      <td>Twitch</td>\n",
       "      <td>11</td>\n",
       "      <td>14</td>\n",
       "      <td>16</td>\n",
       "      <td>False</td>\n",
       "    </tr>\n",
       "    <tr>\n",
       "      <th>51998</th>\n",
       "      <td>KR_5334248416</td>\n",
       "      <td>Soraka</td>\n",
       "      <td>3</td>\n",
       "      <td>7</td>\n",
       "      <td>25</td>\n",
       "      <td>False</td>\n",
       "    </tr>\n",
       "    <tr>\n",
       "      <th>51999</th>\n",
       "      <td>KR_5334248416</td>\n",
       "      <td>Yone</td>\n",
       "      <td>9</td>\n",
       "      <td>10</td>\n",
       "      <td>13</td>\n",
       "      <td>False</td>\n",
       "    </tr>\n",
       "  </tbody>\n",
       "</table>\n",
       "<p>52000 rows × 6 columns</p>\n",
       "</div>"
      ],
      "text/plain": [
       "            match ID champion name  kill  death  assist    win\n",
       "0      KR_5279293156        Illaoi    17      5      19   True\n",
       "1      KR_5279293156       Taliyah     6      6      29   True\n",
       "2      KR_5279293156         Neeko    12      7      22   True\n",
       "3      KR_5279293156         Sivir    10      5      27   True\n",
       "4      KR_5279293156           Lux    10      4      27   True\n",
       "...              ...           ...   ...    ...     ...    ...\n",
       "51995  KR_5334248416          Gwen     3     10      17  False\n",
       "51996  KR_5334248416       Karthus    12     15      14  False\n",
       "51997  KR_5334248416        Twitch    11     14      16  False\n",
       "51998  KR_5334248416        Soraka     3      7      25  False\n",
       "51999  KR_5334248416          Yone     9     10      13  False\n",
       "\n",
       "[52000 rows x 6 columns]"
      ]
     },
     "execution_count": 3,
     "metadata": {},
     "output_type": "execute_result"
    }
   ],
   "source": [
    "game_data = pd.read_csv(\"game_data.csv\", header=0)\n",
    "game_data"
   ]
  },
  {
   "cell_type": "code",
   "execution_count": 8,
   "id": "c8e1914d",
   "metadata": {},
   "outputs": [
    {
     "data": {
      "text/plain": [
       "Ezreal     782\n",
       "Varus      757\n",
       "Jhin       745\n",
       "Lucian     736\n",
       "Nidalee    734\n",
       "          ... \n",
       "Taric       66\n",
       "Udyr        54\n",
       "Skarner     51\n",
       "RekSai      43\n",
       "Yorick      28\n",
       "Name: champion name, Length: 155, dtype: int64"
      ]
     },
     "execution_count": 8,
     "metadata": {},
     "output_type": "execute_result"
    }
   ],
   "source": [
    "#Which champion was played the most?\n",
    "data = game_data['champion name'].value_counts()\n",
    "data"
   ]
  },
  {
   "cell_type": "code",
   "execution_count": 9,
   "id": "b79eec89",
   "metadata": {},
   "outputs": [
    {
     "data": {
      "image/png": "[encoded data removed]",
      "text/plain": [
       "<Figure size 432x288 with 1 Axes>"
      ]
     },
     "metadata": {
      "needs_background": "light"
     },
     "output_type": "display_data"
    }
   ],
   "source": [
    "plt.bar(data.index, data)\n",
    "plt.show()"
   ]
  },
  {
   "cell_type": "code",
   "execution_count": null,
   "id": "0a21169a",
   "metadata": {},
   "outputs": [],
   "source": []
  }
 ],
 "metadata": {
  "kernelspec": {
   "display_name": "Python 3 (ipykernel)",
   "language": "python",
   "name": "python3"
  },
  "language_info": {
   "codemirror_mode": {
    "name": "ipython",
    "version": 3
   },
   "file_extension": ".py",
   "mimetype": "text/x-python",
   "name": "python",
   "nbconvert_exporter": "python",
   "pygments_lexer": "ipython3",
   "version": "3.9.12"
  }
 },
 "nbformat": 4,
 "nbformat_minor": 5
}
