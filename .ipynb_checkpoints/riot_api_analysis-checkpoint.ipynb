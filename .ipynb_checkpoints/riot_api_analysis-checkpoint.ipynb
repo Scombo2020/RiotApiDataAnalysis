{
 "cells": [
  {
   "cell_type": "code",
   "execution_count": 37,
   "id": "e942cfcc",
   "metadata": {},
   "outputs": [],
   "source": [
    "import import_ipynb\n",
    "import riot_api_functions\n",
    "import numpy as np"
   ]
  },
  {
   "cell_type": "code",
   "execution_count": 38,
   "id": "b94d4bdf",
   "metadata": {},
   "outputs": [
    {
     "data": {
      "text/plain": [
       "['GDtgTmR-uTv_llXr07xzoxXsNhbApsS_cq8MwpLi_uWbi_GhJMXyCKAQMGcJxLdarE1dfGfKd6O4sw',\n",
       " '3qyjgHUIX1RpATqptNDKJ8I-l4aM3XfnAAcfuxqS3HApzk805Q2PEdYa-yHQDJ8vGo8o2xZg3FNw-g',\n",
       " 'ubK8Q_7oPU6keZ6J2cfXmo3CyuvleqyE9gCTyqg7c_whRCT7wdWnNwtYqdRm1i8BGiXemuKGJ0RuXQ',\n",
       " 'IaJ9v4ke5rtFkRLMMW4v8h1e505XmCFwjc9nQFbcRx91aiGjPpYYgFm-YHiuan1PM8hNZyRDiH7pOQ',\n",
       " 'dendBVZDFPKed3w3o52jitpBdzhzaZiDJPfP5ARyuEuk23PwV35QKFUQAZXXqpS8Enr6HdiVz3qCkg',\n",
       " 'EksgcQgotm50NRgfhQQ1XEHgvi8QU_LI-HR0XmzbJsB0nIptvLMA-APE-o9UmTBv4t6v9VsKQBIItg',\n",
       " 'fKKXUvjR6C1hVYp9wBvkChFUaNA0V-GtYkT844aqLckTHy0sMBPJqAjrfZbXyXySSpf4KlbeKEW0gA',\n",
       " 'YgaLTFguPxOjTqL4gQMJQFByKHnspEBqbVSZY8k19SDyczVvZMtpKRVObMv84cYe1sczOT5I9AZH_Q',\n",
       " 'lnroR39rTi3YJF_zSKACN7vXTMUvi3eb3RlpWvd8nnOuyNH9XR05i1UE-VE5kZZ0-hiPgpXPwcNamA',\n",
       " 'OZe1NLqellAiEPgHbGV1SOMI9Agyb3IAcpjBDp8YNw4AXEGClJ1wBH9UO2jg-b38wd_4Be-SjwCVmg']"
      ]
     },
     "execution_count": 38,
     "metadata": {},
     "output_type": "execute_result"
    }
   ],
   "source": [
    "match_id_array = np.load('match_id_data.npy')\n",
    "data = riot_api_functions.get_matchData_by_matchId(match_id_array[0])\n",
    "data['metadata']['participants'] #a list of puuid of participants"
   ]
  },
  {
   "cell_type": "code",
   "execution_count": 40,
   "id": "627cb04e",
   "metadata": {},
   "outputs": [
    {
     "name": "stdout",
     "output_type": "stream",
     "text": [
      "Tryndamere False\n",
      "Tristana False\n",
      "Fizz False\n",
      "Amumu False\n",
      "Brand False\n",
      "Sylas True\n",
      "Chogath True\n",
      "MasterYi True\n",
      "Seraphine True\n",
      "Lucian True\n"
     ]
    }
   ],
   "source": [
    "#A list of characters and whether they won or not\n",
    "for player in data['info']['participants']:\n",
    "    print(player['championName'], player['win'])"
   ]
  },
  {
   "cell_type": "code",
   "execution_count": null,
   "id": "83eaeeae",
   "metadata": {},
   "outputs": [],
   "source": []
  }
 ],
 "metadata": {
  "kernelspec": {
   "display_name": "Python 3 (ipykernel)",
   "language": "python",
   "name": "python3"
  },
  "language_info": {
   "codemirror_mode": {
    "name": "ipython",
    "version": 3
   },
   "file_extension": ".py",
   "mimetype": "text/x-python",
   "name": "python",
   "nbconvert_exporter": "python",
   "pygments_lexer": "ipython3",
   "version": "3.9.12"
  }
 },
 "nbformat": 4,
 "nbformat_minor": 5
}
