{
 "cells": [
  {
   "cell_type": "markdown",
   "id": "848cbdc4",
   "metadata": {},
   "source": [
    "칼바람 전적검색 및 mmr 사이트, 캐릭터들 승률 분석하는 것이 최종 목표!<br>\n",
    "https://developer.riotgames.com/apis -> 라이엇 api 공식 사이트<br>"
   ]
  },
  {
   "cell_type": "markdown",
   "id": "08c7e463",
   "metadata": {},
   "source": [
    "400 : Bad request<br>\n",
    "401\t: Unauthorized<br>\n",
    "403\t: Forbidden<br>\n",
    "404\t: Data not found<br>\n",
    "405\t: Method not allowed<br>\n",
    "415\t: Unsupported media type<br>\n",
    "429\t: Rate limit exceeded<br>\n",
    "500\t: Internal server error<br>\n",
    "502\t: Bad gateway<br>\n",
    "503\t: Service unavailable<br>\n",
    "504\t: Gateway timeout<br>"
   ]
  },
  {
   "cell_type": "markdown",
   "id": "211e3ba3",
   "metadata": {},
   "source": [
    "기본적인 정보를 얻어올 수 있는 api기능들은 함수로 만들어놓기."
   ]
  },
  {
   "cell_type": "code",
   "execution_count": 29,
   "id": "3caea47a",
   "metadata": {},
   "outputs": [],
   "source": [
    "# importing\n",
    "import requests"
   ]
  },
  {
   "cell_type": "code",
   "execution_count": 35,
   "id": "452b3d0f",
   "metadata": {},
   "outputs": [],
   "source": [
    "#자주 쓰이는 기본값들\n",
    "Defaults = {\n",
    "    'globalRegion' : 'https://asia.api.riotgames.com',\n",
    "    'region' : 'https://kr.api.riotgames.com',\n",
    "    'key': 'RGAPI-ab235103-f194-4bf2-bdce-47a11d0ff2a9',\n",
    "    'summonerName': '트위스트는페이크',\n",
    "    'id': 'z4AhdIz4k_LsmvoUrro4Yghk8uewrBb5csau1uH-pNFHElY', #summoner ID, unique per region\n",
    "    'accountId': 'RJmJcjJQs5CVrJRkV3hAZrEgP43VqYCjd9U-JcjfLu-i', #account ID, unique per region\n",
    "    'puuid': 'c3m1hwWqsZm8Kjz-diJXGEYfWgUhg0KKB1fO5zCQdfi0Ejgfgz56DCpXdUFlqnQtHgVmyY_ba1_vdQ' #unique globally\n",
    "}"
   ]
  },
  {
   "cell_type": "code",
   "execution_count": 36,
   "id": "85e731c3",
   "metadata": {},
   "outputs": [],
   "source": [
    "#input = region, summerName, key\n",
    "#output = id, accountId, puuid, name, profileIconId, revisionDate, summonerLevel\n",
    "#여기서 뽑아낸 아이디들을 Defaults에 다시 자동으로 반영시켜놔야 헷갈릴 일이 덜하다. 찾아보기!\n",
    "def get_summoner_by_summoner_name():\n",
    "    \n",
    "    url = F\"{Defaults['region']}/lol/summoner/v4/summoners/by-name/{Defaults['summonerName']}?api_key={Defaults['key']}\"\n",
    "\n",
    "    return requests.get(url).json()  #.json()로 보기 깔끔한 포맷으로 바꿔줌"
   ]
  },
  {
   "cell_type": "code",
   "execution_count": 37,
   "id": "624f79bd",
   "metadata": {},
   "outputs": [
    {
     "data": {
      "text/plain": [
       "{'id': 'z4AhdIz4k_LsmvoUrro4Yghk8uewrBb5csau1uH-pNFHElY',\n",
       " 'accountId': 'RJmJcjJQs5CVrJRkV3hAZrEgP43VqYCjd9U-JcjfLu-i',\n",
       " 'puuid': 'c3m1hwWqsZm8Kjz-diJXGEYfWgUhg0KKB1fO5zCQdfi0Ejgfgz56DCpXdUFlqnQtHgVmyY_ba1_vdQ',\n",
       " 'name': '트위스트는페이크',\n",
       " 'profileIconId': 579,\n",
       " 'revisionDate': 1659121117000,\n",
       " 'summonerLevel': 159}"
      ]
     },
     "execution_count": 37,
     "metadata": {},
     "output_type": "execute_result"
    }
   ],
   "source": [
    "get_summoner_by_summoner_name()"
   ]
  },
  {
   "cell_type": "code",
   "execution_count": 40,
   "id": "80893404",
   "metadata": {},
   "outputs": [],
   "source": [
    "#https://asia.api.riotgames.com/lol/match/v5/matches/by-puuid/c3m1hwWqsZm8Kjz-diJXGEYfWgUhg0KKB1fO5zCQdfi0Ejgfgz56DCpXdUFlqnQtHgVmyY_ba1_vdQ/ids?start=0&api_key=RGAPI-ab235103-f194-4bf2-bdce-47a11d0ff2a9\n",
    "#input = globalRegion, puuid, key\n",
    "#output = lists of matchID\n",
    "\n",
    "def get_match_lists_by_puuid():\n",
    "    \n",
    "    url = F\"{Defaults['globalRegion']}/lol/match/v5/matches/by-puuid/{Defaults['puuid']}/ids?start=0&api_key={Defaults['key']}\"\n",
    "\n",
    "    return requests.get(url).json()\n"
   ]
  },
  {
   "cell_type": "code",
   "execution_count": 41,
   "id": "a37fbbae",
   "metadata": {},
   "outputs": [
    {
     "data": {
      "text/plain": [
       "['KR_6050231379',\n",
       " 'KR_6050108849',\n",
       " 'KR_6050172615',\n",
       " 'KR_6050170469',\n",
       " 'KR_6050066798',\n",
       " 'KR_6050052840',\n",
       " 'KR_6049938725',\n",
       " 'KR_6049905373',\n",
       " 'KR_6049619929',\n",
       " 'KR_6049625973',\n",
       " 'KR_6046213132',\n",
       " 'KR_6046141703',\n",
       " 'KR_6046109480',\n",
       " 'KR_6046057979',\n",
       " 'KR_6046125214',\n",
       " 'KR_6046112571',\n",
       " 'KR_6046080335',\n",
       " 'KR_6045987203',\n",
       " 'KR_6045982891',\n",
       " 'KR_6045849822']"
      ]
     },
     "execution_count": 41,
     "metadata": {},
     "output_type": "execute_result"
    }
   ],
   "source": [
    "get_match_lists_by_puuid()"
   ]
  },
  {
   "cell_type": "code",
   "execution_count": null,
   "id": "c462bf04",
   "metadata": {},
   "outputs": [],
   "source": []
  }
 ],
 "metadata": {
  "kernelspec": {
   "display_name": "Python 3 (ipykernel)",
   "language": "python",
   "name": "python3"
  },
  "language_info": {
   "codemirror_mode": {
    "name": "ipython",
    "version": 3
   },
   "file_extension": ".py",
   "mimetype": "text/x-python",
   "name": "python",
   "nbconvert_exporter": "python",
   "pygments_lexer": "ipython3",
   "version": "3.9.12"
  }
 },
 "nbformat": 4,
 "nbformat_minor": 5
}
