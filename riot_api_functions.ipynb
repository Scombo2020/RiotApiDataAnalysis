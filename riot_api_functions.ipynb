{
 "cells": [
  {
   "cell_type": "markdown",
   "id": "fe1b1957",
   "metadata": {},
   "source": [
    "https://developer.riotgames.com/"
   ]
  },
  {
   "cell_type": "markdown",
   "id": "8afb184e",
   "metadata": {},
   "source": [
    "<b>Import pacakges<b>"
   ]
  },
  {
   "cell_type": "code",
   "execution_count": 168,
   "id": "3caea47a",
   "metadata": {},
   "outputs": [],
   "source": [
    "import requests\n",
    "import numpy as np\n",
    "import csv\n",
    "import time\n",
    "import pandas as pd"
   ]
  },
  {
   "cell_type": "markdown",
   "id": "e37e3dac",
   "metadata": {},
   "source": [
    "<b>Declare variables<b>"
   ]
  },
  {
   "cell_type": "code",
   "execution_count": 169,
   "id": "d54e13c0",
   "metadata": {},
   "outputs": [],
   "source": [
    "#these variables are used as inputs for api calls.\n",
    "key_and_region = {\n",
    "    'key' : '',\n",
    "    'region' : '',\n",
    "    'globalRegion' : ''\n",
    "}\n",
    "\n",
    "given_user = {\n",
    "    'name' : '',\n",
    "    'puuid' : ''\n",
    "}\n"
   ]
  },
  {
   "cell_type": "markdown",
   "id": "5f38b543",
   "metadata": {},
   "source": [
    "<b>Define functions<b>"
   ]
  },
  {
   "cell_type": "code",
   "execution_count": 170,
   "id": "fbd5cea4",
   "metadata": {},
   "outputs": [],
   "source": [
    "#initial setup of the api key and regions.\n",
    "def key_and_region_setup():\n",
    "\n",
    "    with open(\"initial_key_and_region.txt\", \"r\") as f:\n",
    "        values = f.readlines()\n",
    "        key_and_region['key'] = values[0].strip()\n",
    "        key_and_region['region'] = values[1].strip()\n",
    "        key_and_region['globalRegion'] = values[2].strip()"
   ]
  },
  {
   "cell_type": "code",
   "execution_count": 171,
   "id": "43f7ff4e",
   "metadata": {},
   "outputs": [],
   "source": [
    "#initinal setup of user with developer's data.\n",
    "def user_setup():\n",
    "\n",
    "    with open(\"initial_user.txt\", \"r\") as f:\n",
    "        values = f.readlines()\n",
    "        given_user['name'] = values[0].strip()\n",
    "        given_user['puuid'] = values[1].strip()"
   ]
  },
  {
   "cell_type": "code",
   "execution_count": 172,
   "id": "1d4c015d",
   "metadata": {},
   "outputs": [],
   "source": [
    "#change user variables to another user.\n",
    "def user_change(user_name, user_puuid):\n",
    "    \n",
    "    given = {\n",
    "        'name' : user_name,\n",
    "        'puuid' : user_puuid\n",
    "    }\n",
    "    \n",
    "    given_user.update({'name' : given['name'], 'puuid' : given['puuid']})"
   ]
  },
  {
   "cell_type": "code",
   "execution_count": 173,
   "id": "85e731c3",
   "metadata": {},
   "outputs": [],
   "source": [
    "#Using user's name, get puuid of the user.\n",
    "def get_puuid_by_name(user_name=given_user['name']):\n",
    "    \n",
    "    given = {\n",
    "        'name' : user_name\n",
    "    }\n",
    "    \n",
    "    url = F\"{key_and_region['region']}/lol/summoner/v4/summoners/by-name/{given['name']}?api_key={key_and_region['key']}\"\n",
    "    data = requests.get(url).json() #.json() changes the format to json and organize output vertically.\n",
    "    \n",
    "    given_user.update({'name' : data['name'],'puuid' : data['puuid']})\n",
    "    \n",
    "\n",
    "    return given_user"
   ]
  },
  {
   "cell_type": "code",
   "execution_count": 174,
   "id": "ea157ed7",
   "metadata": {},
   "outputs": [],
   "source": [
    "#Using user's puuid, get user's name.\n",
    "def get_name_by_puuid(user_puuid=given_user['puuid']):\n",
    "    \n",
    "    given = {\n",
    "        'puuid' : user_puuid\n",
    "    }\n",
    "    \n",
    "    url = F\"{key_and_region['region']}/lol/summoner/v4/summoners/by-puuid/{given['puuid']}?api_key={key_and_region['key']}\"\n",
    "    data = requests.get(url).json() \n",
    "    \n",
    "    given_user.update({'name' : data['name'],'puuid' : data['puuid']})\n",
    "    \n",
    "\n",
    "    return given_user"
   ]
  },
  {
   "cell_type": "code",
   "execution_count": 175,
   "id": "d8fac531",
   "metadata": {},
   "outputs": [],
   "source": [
    "#Append data of given_user to user_data.csv.\n",
    "#data is appended with \\n at the end. If you add data by hand, type enter at the end to keep the format.\n",
    "def add_given_user_to_user_data():\n",
    "    \n",
    "    with open(\"user_data.csv\", \"a\") as f:\n",
    "        appender = csv.writer(f)\n",
    "        appender.writerow([given_user['name'], given_user['puuid']])"
   ]
  },
  {
   "cell_type": "code",
   "execution_count": 176,
   "id": "b7a8c6fa",
   "metadata": {},
   "outputs": [],
   "source": [
    "#Remove duplicated data from user_data.csv.\n",
    "#if you have opened the file, cursor doesn't matter, but typing enter matters since it is recorded as \\n. BE AWARE!\n",
    "#if you delete data and practice it again, note that \\n can still remain at the end if you don't drag the entire line.\n",
    "def remove_duplicated_of_user_data():\n",
    "    before_removal = open(\"user_data.csv\" , 'r')\n",
    "  \n",
    "    before_separation = before_removal.readlines()\n",
    "    first_row = before_separation[0]\n",
    "    users = before_separation[1:]\n",
    "    users = list(set(users))\n",
    "    users.sort()\n",
    "    \n",
    "    after_removal = open(\"user_data.csv\", 'w')\n",
    "    after_removal.write(first_row)\n",
    "    for user in users:\n",
    "        after_removal.write(user)\n",
    "        \n",
    "    before_removal.close()\n",
    "    after_removal.close()"
   ]
  },
  {
   "cell_type": "code",
   "execution_count": 177,
   "id": "feedd50c",
   "metadata": {},
   "outputs": [],
   "source": [
    "#using user's puuid, get records of recent aram match IDs of the user.\n",
    "#input must be between 0 and 100\n",
    "def get_recent_aram_matchId_list_by_puuid(list_size=20):\n",
    "    \n",
    "    given = {\n",
    "        'size' : list_size\n",
    "    }\n",
    "    \n",
    "    url = F\"{key_and_region['globalRegion']}/lol/match/v5/matches/by-puuid/{given_user['puuid']}/ids?queue=450&start=0&count={given['size']}&api_key={key_and_region['key']}\"\n",
    "    data = requests.get(url).json()\n",
    "    \n",
    "    return data"
   ]
  },
  {
   "cell_type": "code",
   "execution_count": 178,
   "id": "c462bf04",
   "metadata": {},
   "outputs": [],
   "source": [
    "#using match ID, get detailed data of the match.\n",
    "def get_matchData_by_matchId(match_ID):\n",
    "    \n",
    "    given = {\n",
    "        'ID' : match_ID\n",
    "    }\n",
    "    \n",
    "    url = F\"{key_and_region['globalRegion']}/lol/match/v5/matches/{given['ID']}?api_key={key_and_region['key']}\"\n",
    "    data = requests.get(url).json()\n",
    "    \n",
    "    return data"
   ]
  },
  {
   "cell_type": "code",
   "execution_count": 179,
   "id": "cd6d8cce",
   "metadata": {},
   "outputs": [],
   "source": [
    "#Show how many match IDs have been collected.\n",
    "def how_many_matchIds():\n",
    "    matchIds = np.load('match_id_data_before_extraction.npy')\n",
    "    print(\"we have \", len(matchIds), \" matchIDs.\")"
   ]
  },
  {
   "cell_type": "code",
   "execution_count": 180,
   "id": "f421a733",
   "metadata": {},
   "outputs": [],
   "source": [
    "#Show how many puuids have been collected.\n",
    "def how_many_puuids():        \n",
    "    user_list_file = open(\"user_data.csv\" , 'r')\n",
    "    user_list = user_list_file.readlines()\n",
    "    users = user_list[1:]\n",
    "    print(\"we have \" , len(users), \" users' puuids.\")\n",
    "    user_list_file.close()"
   ]
  },
  {
   "cell_type": "code",
   "execution_count": 181,
   "id": "910ca6c3",
   "metadata": {},
   "outputs": [],
   "source": [
    "#Show how many games' detailed data have been collected.\n",
    "def how_many_game_data():\n",
    "    matchIds = np.load('match_id_data_after_extraction.npy', allow_pickle = True)\n",
    "    print(\"we have \", len(matchIds), \" matchIDs.\")"
   ]
  },
  {
   "cell_type": "markdown",
   "id": "e3c0b83f",
   "metadata": {},
   "source": [
    "<b>Define functions using the functions above<b>"
   ]
  },
  {
   "cell_type": "code",
   "execution_count": 182,
   "id": "9f2cd37e",
   "metadata": {},
   "outputs": [],
   "source": [
    "#Collect more matchIds.\n",
    "#Iterate user_data.csv, collect their recent 100 aram records, remove the overlapped records, and save it.\n",
    "#1 cycle goes for first 100 users of user_data.csv. \n",
    "#The least efficient function for now, as it repeatedly goes for first several users of the list,\n",
    "#if given cycle is not large enough. But since we don't know which player has gotten new records the most,\n",
    "#cannot figure out how to improve this function's productivity.\n",
    "def collect_more_matchIds(cycle = 10):\n",
    "    \n",
    "    collected_matchIds = np.array([])\n",
    "    one_to_hundred = 0\n",
    "    hundreds = 0\n",
    "    \n",
    "    user_list_file = open(\"user_data.csv\" , 'r')\n",
    "    user_list = user_list_file.readlines()\n",
    "    first_row = user_list[0]\n",
    "    users = user_list[1:]\n",
    "    \n",
    "    for user in users:\n",
    "        user_change(user.split(',')[0], user.split(',')[1].strip())\n",
    "        matchIds = np.array(get_recent_aram_matchId_list_by_puuid(100)) #calls api\n",
    "        collected_matchIds = np.concatenate((collected_matchIds, matchIds)) # need to concatenate in form of tuple = ((a,b))\n",
    "        one_to_hundred += 1\n",
    "        \n",
    "        if one_to_hundred == 100:\n",
    "                hundreds += 1\n",
    "                print(hundreds, \" cycle has been done.\")\n",
    "                one_to_hundred = 0\n",
    "                if hundreds == cycle:\n",
    "                    break\n",
    "                time.sleep(125)\n",
    "        \n",
    "    existing_matchIds = np.load('match_id_data_before_extraction.npy')\n",
    "    added_matchIds = np.concatenate((existing_matchIds, collected_matchIds))\n",
    "    added_matchIds = np.unique(added_matchIds)\n",
    "    np.save('match_id_data_before_extraction', added_matchIds)\n",
    "    user_list_file.close()\n",
    "    how_many_matchIds()\n",
    "    print(\"The entire process has been done as \", cycle, \" cycles were set. Finish the program.\")"
   ]
  },
  {
   "cell_type": "code",
   "execution_count": 183,
   "id": "be24f55b",
   "metadata": {},
   "outputs": [],
   "source": [
    "#Collect more puuids.\n",
    "#Iterate match_id_data_before_extraction.npy, collect data of each game's participants, and save it.\n",
    "#When iterating, match ID is checked if it already has been through this process. If so, the match ID is passed without calling api.\n",
    "#1 cycles goes for first 100 match IDs of match_id_data_before_extraction.npy.\n",
    "#100 calls per 2 min. Idk why but 10 participants are passed, not 9(I thought 11 calls per 1 outer loop, but it is somehow 10)\n",
    "def collect_more_puuids(cycle = 10):\n",
    "    \n",
    "    before_extraction = np.load('match_id_data_before_extraction.npy')\n",
    "    after_extraction = np.load('match_id_data_after_extraction.npy', allow_pickle=True)\n",
    "    one_to_hundred = 0\n",
    "    hundreds = 0\n",
    "    loop_breaker = False\n",
    "    \n",
    "    for matchId in before_extraction:\n",
    "        \n",
    "        if loop_breaker == True:\n",
    "            break\n",
    "        \n",
    "        if not matchId in after_extraction:\n",
    "            participants = get_matchData_by_matchId(matchId)['metadata']['participants'] #calls api\n",
    "        \n",
    "            for participant in participants:\n",
    "                get_name_by_puuid(participant) #calls api\n",
    "                add_given_user_to_user_data()\n",
    "                one_to_hundred += 1    \n",
    "            \n",
    "                if one_to_hundred == 100:\n",
    "                    hundreds += 1\n",
    "                    print(hundreds, \" cycle has been done.\")\n",
    "                    one_to_hundred = 0\n",
    "                    \n",
    "                    if hundreds == cycle:\n",
    "                        loop_breaker = True\n",
    "                        break\n",
    "                    \n",
    "                    time.sleep(125)\n",
    "    \n",
    "    remove_duplicated_of_user_data()\n",
    "    how_many_puuids()\n",
    "    print(\"The entire process has been done as \", cycle, \" cycles were set. Finish the program.\")"
   ]
  },
  {
   "cell_type": "code",
   "execution_count": 184,
   "id": "08a42d82",
   "metadata": {},
   "outputs": [],
   "source": [
    "#Collect more game data.\n",
    "#Iterate match_id_data_before_extraction.npy, collect data(played champions, kda, victory or defeat) of each game, and save it.\n",
    "#When iterating, match ID is checked if it already has been through this process. If so, the match ID is passed without calling api.\n",
    "#After process, newly processed match ID is added to match_id_data_after_extraction.\n",
    "#1 cycles goes for first 100 match IDs of match_id_data_before_extraction.npy.\n",
    "def collect_more_game_data(cycle = 10):\n",
    "    \n",
    "    before_extraction = np.load('match_id_data_before_extraction.npy')\n",
    "    after_extraction = np.load('match_id_data_after_extraction.npy', allow_pickle=True)\n",
    "    recently_extracted = np.array([])\n",
    "    one_to_hundred = 0\n",
    "    hundreds = 0\n",
    "    \n",
    "    game_data = pd.read_csv(\"game_data.csv\", header=0)\n",
    "    \n",
    "    for matchId in before_extraction:\n",
    "        \n",
    "        if not matchId in after_extraction:\n",
    "            recently_extracted = np.append(recently_extracted, matchId)\n",
    "            game_data = get_matchData_by_matchId(matchId) #calls api\n",
    "            players = game_data['info']['participants']\n",
    "            \n",
    "            with open(\"game_data.csv\", \"a\") as f:\n",
    "                appender = csv.writer(f)\n",
    "                for player in players:\n",
    "                    appender.writerow([game_data['metadata']['matchId'], player['championName'], player['kills'],\n",
    "                                 player['deaths'], player['assists'], player['win']])\n",
    "            one_to_hundred += 1\n",
    "            \n",
    "            if one_to_hundred == 100:\n",
    "                hundreds += 1\n",
    "                print(hundreds, \" cycle has been done.\")\n",
    "                one_to_hundred = 0\n",
    "                \n",
    "                if hundreds == cycle:\n",
    "                    collected_matchIds = np.concatenate((after_extraction, recently_extracted)) \n",
    "                    np.save('match_id_data_after_extraction', collected_matchIds)\n",
    "                    how_many_game_data()\n",
    "                    print(\"The entire process has been done as \", cycle, \" cycles were set. Finish the program.\")\n",
    "                    break\n",
    "                    \n",
    "                time.sleep(125)"
   ]
  },
  {
   "cell_type": "markdown",
   "id": "81ac2af7",
   "metadata": {},
   "source": [
    "<b>Setup at the beginning<b>"
   ]
  },
  {
   "cell_type": "code",
   "execution_count": 166,
   "id": "91142832",
   "metadata": {},
   "outputs": [],
   "source": [
    "key_and_region_setup()\n",
    "user_setup()"
   ]
  },
  {
   "cell_type": "code",
   "execution_count": 167,
   "id": "dfa6a676",
   "metadata": {},
   "outputs": [
    {
     "name": "stdout",
     "output_type": "stream",
     "text": [
      "we have  318436  matchIDs.\n",
      "we have  3700  users' puuids.\n",
      "we have  9400  matchIDs.\n"
     ]
    }
   ],
   "source": [
    "how_many_matchIds()\n",
    "how_many_puuids()\n",
    "how_many_game_data()"
   ]
  },
  {
   "cell_type": "code",
   "execution_count": null,
   "id": "ed8858cf",
   "metadata": {},
   "outputs": [],
   "source": []
  }
 ],
 "metadata": {
  "kernelspec": {
   "display_name": "Python 3 (ipykernel)",
   "language": "python",
   "name": "python3"
  },
  "language_info": {
   "codemirror_mode": {
    "name": "ipython",
    "version": 3
   },
   "file_extension": ".py",
   "mimetype": "text/x-python",
   "name": "python",
   "nbconvert_exporter": "python",
   "pygments_lexer": "ipython3",
   "version": "3.9.12"
  }
 },
 "nbformat": 4,
 "nbformat_minor": 5
}
