{
 "cells": [
  {
   "cell_type": "markdown",
   "id": "fe1b1957",
   "metadata": {},
   "source": [
    "https://developer.riotgames.com/"
   ]
  },
  {
   "cell_type": "markdown",
   "id": "8afb184e",
   "metadata": {},
   "source": [
    "<b>Import pacakges<b>"
   ]
  },
  {
   "cell_type": "code",
   "execution_count": 44,
   "id": "3caea47a",
   "metadata": {},
   "outputs": [],
   "source": [
    "import requests\n",
    "import numpy as np\n",
    "import csv\n",
    "import time\n",
    "import pandas as pd"
   ]
  },
  {
   "cell_type": "markdown",
   "id": "e37e3dac",
   "metadata": {},
   "source": [
    "<b>Declare variables<b>"
   ]
  },
  {
   "cell_type": "code",
   "execution_count": 45,
   "id": "d54e13c0",
   "metadata": {},
   "outputs": [],
   "source": [
    "key_and_region = {\n",
    "    'key' : '',\n",
    "    'region' : '',\n",
    "    'globalRegion' : ''\n",
    "}\n",
    "\n",
    "given_user = {\n",
    "    'name' : '',\n",
    "    'puuid' : ''\n",
    "}\n"
   ]
  },
  {
   "cell_type": "markdown",
   "id": "5f38b543",
   "metadata": {},
   "source": [
    "<b>Define functions<b>"
   ]
  },
  {
   "cell_type": "code",
   "execution_count": 46,
   "id": "fbd5cea4",
   "metadata": {},
   "outputs": [],
   "source": [
    "def key_and_region_setup():\n",
    "\n",
    "    with open(\"initial_key_and_region.txt\", \"r\") as f:\n",
    "        values = f.readlines()\n",
    "        key_and_region['key'] = values[0].strip()\n",
    "        key_and_region['region'] = values[1].strip()\n",
    "        key_and_region['globalRegion'] = values[2].strip()"
   ]
  },
  {
   "cell_type": "code",
   "execution_count": 47,
   "id": "43f7ff4e",
   "metadata": {},
   "outputs": [],
   "source": [
    "#use my data\n",
    "def user_setup():\n",
    "\n",
    "    with open(\"initial_user.txt\", \"r\") as f:\n",
    "        values = f.readlines()\n",
    "        given_user['name'] = values[0].strip()\n",
    "        given_user['puuid'] = values[1].strip()"
   ]
  },
  {
   "cell_type": "code",
   "execution_count": 48,
   "id": "1d4c015d",
   "metadata": {},
   "outputs": [],
   "source": [
    "def user_change(user_name, user_puuid):\n",
    "    \n",
    "    given = {\n",
    "        'name' : user_name,\n",
    "        'puuid' : user_puuid\n",
    "    }\n",
    "    \n",
    "    given_user.update({'name' : given['name'], 'puuid' : given['puuid']})"
   ]
  },
  {
   "cell_type": "code",
   "execution_count": 49,
   "id": "85e731c3",
   "metadata": {},
   "outputs": [],
   "source": [
    "def get_puuid_by_name(user_name=given_user['name']):\n",
    "    \n",
    "    given = {\n",
    "        'name' : user_name\n",
    "    }\n",
    "    \n",
    "    url = F\"{key_and_region['region']}/lol/summoner/v4/summoners/by-name/{given['name']}?api_key={key_and_region['key']}\"\n",
    "    data = requests.get(url).json() #.json() changes the format to json and organize output vertically.\n",
    "    \n",
    "    given_user.update({'name' : data['name'],'puuid' : data['puuid']})\n",
    "    \n",
    "\n",
    "    return given_user"
   ]
  },
  {
   "cell_type": "code",
   "execution_count": 50,
   "id": "ea157ed7",
   "metadata": {},
   "outputs": [],
   "source": [
    "def get_name_by_puuid(user_puuid=given_user['puuid']):\n",
    "    \n",
    "    given = {\n",
    "        'puuid' : user_puuid\n",
    "    }\n",
    "    \n",
    "    url = F\"{key_and_region['region']}/lol/summoner/v4/summoners/by-puuid/{given['puuid']}?api_key={key_and_region['key']}\"\n",
    "    data = requests.get(url).json() \n",
    "    \n",
    "    given_user.update({'name' : data['name'],'puuid' : data['puuid']})\n",
    "    \n",
    "\n",
    "    return given_user"
   ]
  },
  {
   "cell_type": "code",
   "execution_count": 51,
   "id": "d8fac531",
   "metadata": {},
   "outputs": [],
   "source": [
    "#data is appended with \\n at the end. If you add data by hand, type enter at the end to keep the format.\n",
    "def add_given_user_to_user_data():\n",
    "    \n",
    "    with open(\"user_data.csv\", \"a\") as f:\n",
    "        appender = csv.writer(f)\n",
    "        appender.writerow([given_user['name'], given_user['puuid']])"
   ]
  },
  {
   "cell_type": "code",
   "execution_count": 52,
   "id": "b7a8c6fa",
   "metadata": {},
   "outputs": [],
   "source": [
    "#if you have opened the file, cursor doesn't matter, but typing enter matters since it is recorded as \\n. BE AWARE!\n",
    "#if you delete data and practice it again, note that \\n can still remain at the end if you don't drag the entire line.\n",
    "def remove_duplicated_of_user_data():\n",
    "    before_removal = open(\"user_data.csv\" , 'r')\n",
    "  \n",
    "    before_separation = before_removal.readlines()\n",
    "    first_row = before_separation[0]\n",
    "    users = before_separation[1:]\n",
    "    users = list(set(users))\n",
    "    users.sort()\n",
    "    \n",
    "    after_removal = open(\"user_data.csv\", 'w')\n",
    "    after_removal.write(first_row)\n",
    "    for user in users:\n",
    "        after_removal.write(user)\n",
    "        \n",
    "    before_removal.close()\n",
    "    after_removal.close()"
   ]
  },
  {
   "cell_type": "code",
   "execution_count": 53,
   "id": "feedd50c",
   "metadata": {},
   "outputs": [],
   "source": [
    "#input should be between 0 and 100\n",
    "def get_recent_aram_matchId_list_by_puuid(list_size=20):\n",
    "    \n",
    "    given = {\n",
    "        'size' : list_size\n",
    "    }\n",
    "    \n",
    "    url = F\"{key_and_region['globalRegion']}/lol/match/v5/matches/by-puuid/{given_user['puuid']}/ids?queue=450&start=0&count={given['size']}&api_key={key_and_region['key']}\"\n",
    "    data = requests.get(url).json()\n",
    "    \n",
    "    return data"
   ]
  },
  {
   "cell_type": "code",
   "execution_count": 54,
   "id": "c462bf04",
   "metadata": {},
   "outputs": [],
   "source": [
    "def get_matchData_by_matchId(match_ID):\n",
    "    \n",
    "    given = {\n",
    "        'ID' : match_ID\n",
    "    }\n",
    "    \n",
    "    url = F\"{key_and_region['globalRegion']}/lol/match/v5/matches/{given['ID']}?api_key={key_and_region['key']}\"\n",
    "    data = requests.get(url).json()\n",
    "    \n",
    "    return data"
   ]
  },
  {
   "cell_type": "code",
   "execution_count": 72,
   "id": "cd6d8cce",
   "metadata": {},
   "outputs": [],
   "source": [
    "def how_many_matchIds():\n",
    "    matchIds = np.load('match_id_data_before_extraction.npy')\n",
    "    print(\"we have \", len(matchIds), \" matchIDs.\")"
   ]
  },
  {
   "cell_type": "code",
   "execution_count": 73,
   "id": "f421a733",
   "metadata": {},
   "outputs": [],
   "source": [
    "def how_many_puuids():        \n",
    "    user_list_file = open(\"user_data.csv\" , 'r')\n",
    "    user_list = user_list_file.readlines()\n",
    "    users = user_list[1:]\n",
    "    print(\"we have \" , len(users), \" users' puuids.\")\n",
    "    user_list_file.close()"
   ]
  },
  {
   "cell_type": "code",
   "execution_count": 74,
   "id": "910ca6c3",
   "metadata": {},
   "outputs": [],
   "source": [
    "def how_many_game_data():\n",
    "    matchIds = np.load('match_id_data_after_extraction.npy', allow_pickle = True)\n",
    "    print(\"we have \", len(matchIds), \" matchIDs.\")"
   ]
  },
  {
   "cell_type": "markdown",
   "id": "e3c0b83f",
   "metadata": {},
   "source": [
    "<b>Define functions using the functions above<b>"
   ]
  },
  {
   "cell_type": "code",
   "execution_count": 58,
   "id": "9f2cd37e",
   "metadata": {},
   "outputs": [],
   "source": [
    "def collect_more_matchIds():\n",
    "    \n",
    "    collected_matchIds = np.array([])\n",
    "    one_to_hundred = 0\n",
    "    hundreds = 0\n",
    "    \n",
    "    user_list_file = open(\"user_data.csv\" , 'r')\n",
    "    user_list = user_list_file.readlines()\n",
    "    first_row = user_list[0]\n",
    "    users = user_list[1:]\n",
    "    \n",
    "    for user in users:\n",
    "        user_change(user.split(',')[0], user.split(',')[1].strip())\n",
    "        matchIds = np.array(get_recent_aram_matchId_list_by_puuid(100)) #calls api\n",
    "        collected_matchIds = np.concatenate((collected_matchIds, matchIds)) # need to concatenate in form of tuple = ((a,b))\n",
    "        one_to_hundred += 1\n",
    "        \n",
    "        if one_to_hundred == 100:\n",
    "                hundreds += 1\n",
    "                print(hundreds, \" cycle has been done.\")\n",
    "                one_to_hundred = 0\n",
    "                time.sleep(125)\n",
    "        \n",
    "    existing_matchIds = np.load('match_id_data.npy')\n",
    "    added_matchIds = np.concatenate((existing_matchIds, collected_matchIds))\n",
    "    added_matchIds = np.unique(added_matchIds)\n",
    "    np.save('match_id_data', added_matchIds)\n",
    "    user_list_file.close()\n",
    "    how_many_matchIds()\n",
    "    print(\"matchID addition has been done.\")"
   ]
  },
  {
   "cell_type": "code",
   "execution_count": 59,
   "id": "be24f55b",
   "metadata": {},
   "outputs": [],
   "source": [
    "#100 calls per 2 min. Idk why but 10 participants are passed, not 9(I thought 11 calls per 1 outer loop, but it is somehow 10)\n",
    "def collect_more_puuids():\n",
    "    \n",
    "    matchIds = np.load('match_id_data.npy')\n",
    "    one_to_hundred = 0\n",
    "    hundreds = 0\n",
    "    \n",
    "    for matchId in matchIds:\n",
    "        participants = get_matchData_by_matchId(matchId)['metadata']['participants'] #calls api\n",
    "        \n",
    "        for participant in participants:\n",
    "            get_name_by_puuid(participant) #calls api\n",
    "            add_given_user_to_user_data()\n",
    "            one_to_hundred += 1    \n",
    "            \n",
    "            if one_to_hundred == 100:\n",
    "                hundreds += 1\n",
    "                print(hundreds, \" cycle has been done.\")\n",
    "                one_to_hundred = 0\n",
    "                time.sleep(125)\n",
    "    \n",
    "    remove_duplicated_of_user_data()\n",
    "    how_many_puuids()\n",
    "    print(\"puuid addition has been done.\")"
   ]
  },
  {
   "cell_type": "code",
   "execution_count": 66,
   "id": "08a42d82",
   "metadata": {},
   "outputs": [],
   "source": [
    "def collect_more_game_data(cycle = 10):\n",
    "    \n",
    "    before_extraction = np.load('match_id_data_before_extraction.npy')\n",
    "    after_extraction = np.load('match_id_data_after_extraction.npy', allow_pickle=True)\n",
    "    recently_extracted = np.array([])\n",
    "    one_to_hundred = 0\n",
    "    hundreds = 0\n",
    "    \n",
    "    game_data = pd.read_csv(\"game_data.csv\", header=0)\n",
    "    \n",
    "    for matchId in before_extraction:\n",
    "        \n",
    "        if not matchId in after_extraction:\n",
    "            recently_extracted = np.append(recently_extracted, matchId)\n",
    "            game_data = get_matchData_by_matchId(matchId) #calls api\n",
    "            players = game_data['info']['participants']\n",
    "            \n",
    "            with open(\"game_data.csv\", \"a\") as f:\n",
    "                appender = csv.writer(f)\n",
    "                for player in players:\n",
    "                    appender.writerow([game_data['metadata']['matchId'], player['championName'], player['kills'],\n",
    "                                 player['deaths'], player['assists'], player['win']])\n",
    "            one_to_hundred += 1\n",
    "            \n",
    "            if one_to_hundred == 100:\n",
    "                hundreds += 1\n",
    "                print(hundreds, \" cycle has been done.\")\n",
    "                one_to_hundred = 0\n",
    "                \n",
    "                if hundreds == cycle:\n",
    "                    collected_matchIds = np.concatenate((after_extraction, recently_extracted)) \n",
    "                    np.save('match_id_data_after_extraction', collected_matchIds)\n",
    "                    print(\"The entire process has been done as \", cycle, \" cycles were set. Finish the program.\")\n",
    "                    break\n",
    "                    \n",
    "                time.sleep(125)"
   ]
  },
  {
   "cell_type": "markdown",
   "id": "81ac2af7",
   "metadata": {},
   "source": [
    "<b>Setup at the beginning<b>"
   ]
  },
  {
   "cell_type": "code",
   "execution_count": 61,
   "id": "91142832",
   "metadata": {},
   "outputs": [],
   "source": [
    "key_and_region_setup()\n",
    "user_setup()"
   ]
  },
  {
   "cell_type": "code",
   "execution_count": 75,
   "id": "dfa6a676",
   "metadata": {},
   "outputs": [
    {
     "name": "stdout",
     "output_type": "stream",
     "text": [
      "we have  317817  matchIDs.\n",
      "we have  3614  users' puuids.\n",
      "we have  9400  matchIDs.\n"
     ]
    }
   ],
   "source": [
    "how_many_matchIds()\n",
    "how_many_puuids()\n",
    "how_many_game_data()"
   ]
  },
  {
   "cell_type": "code",
   "execution_count": null,
   "id": "bc221198",
   "metadata": {},
   "outputs": [],
   "source": []
  }
 ],
 "metadata": {
  "kernelspec": {
   "display_name": "Python 3 (ipykernel)",
   "language": "python",
   "name": "python3"
  },
  "language_info": {
   "codemirror_mode": {
    "name": "ipython",
    "version": 3
   },
   "file_extension": ".py",
   "mimetype": "text/x-python",
   "name": "python",
   "nbconvert_exporter": "python",
   "pygments_lexer": "ipython3",
   "version": "3.9.12"
  }
 },
 "nbformat": 4,
 "nbformat_minor": 5
}
